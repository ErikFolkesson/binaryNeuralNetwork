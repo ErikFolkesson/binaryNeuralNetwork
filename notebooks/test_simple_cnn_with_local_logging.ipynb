{
 "cells": [
  {
   "cell_type": "code",
   "id": "initial_id",
   "metadata": {
    "collapsed": true,
    "ExecuteTime": {
     "end_time": "2025-04-02T09:15:38.486583Z",
     "start_time": "2025-04-02T09:15:31.802956Z"
    }
   },
   "source": "from src.models.baseline_cnn import train_model",
   "outputs": [],
   "execution_count": 1
  },
  {
   "metadata": {
    "ExecuteTime": {
     "end_time": "2025-04-02T09:16:32.230822Z",
     "start_time": "2025-04-02T09:15:38.495392Z"
    }
   },
   "cell_type": "code",
   "source": "train_model(use_wandb=False, experiment_id=\"test_local_logging\")",
   "id": "c368afe84a6c073a",
   "outputs": [
    {
     "name": "stdout",
     "output_type": "stream",
     "text": [
      "Epoch [1/3], Step [100/1500], Loss: 0.8459\n",
      "Epoch [1/3], Step [200/1500], Loss: 0.2516\n",
      "Epoch [1/3], Step [300/1500], Loss: 0.1813\n",
      "Epoch [1/3], Step [400/1500], Loss: 0.1426\n",
      "Epoch [1/3], Step [500/1500], Loss: 0.1188\n",
      "Epoch [1/3], Step [600/1500], Loss: 0.1084\n",
      "Epoch [1/3], Step [700/1500], Loss: 0.0948\n",
      "Epoch [1/3], Step [800/1500], Loss: 0.0871\n",
      "Epoch [1/3], Step [900/1500], Loss: 0.0896\n",
      "Epoch [1/3], Step [1000/1500], Loss: 0.0726\n",
      "Epoch [1/3], Step [1100/1500], Loss: 0.0817\n",
      "Epoch [1/3], Step [1200/1500], Loss: 0.0827\n",
      "Epoch [1/3], Step [1300/1500], Loss: 0.0717\n",
      "Epoch [1/3], Step [1400/1500], Loss: 0.0575\n",
      "Epoch [1/3], Step [1500/1500], Loss: 0.0636\n",
      "Epoch [1/3], Train Loss: 0.0000, Val Loss: 0.0574, Val Accuracy: 98.22%\n"
     ]
    },
    {
     "ename": "TypeError",
     "evalue": "unsupported operand type(s) for /: 'WindowsPath' and 'float'",
     "output_type": "error",
     "traceback": [
      "\u001B[1;31m---------------------------------------------------------------------------\u001B[0m",
      "\u001B[1;31mTypeError\u001B[0m                                 Traceback (most recent call last)",
      "Cell \u001B[1;32mIn[2], line 1\u001B[0m\n\u001B[1;32m----> 1\u001B[0m \u001B[43mtrain_model\u001B[49m\u001B[43m(\u001B[49m\u001B[43muse_wandb\u001B[49m\u001B[38;5;241;43m=\u001B[39;49m\u001B[38;5;28;43;01mFalse\u001B[39;49;00m\u001B[43m,\u001B[49m\u001B[43m \u001B[49m\u001B[43mexperiment_id\u001B[49m\u001B[38;5;241;43m=\u001B[39;49m\u001B[38;5;124;43m\"\u001B[39;49m\u001B[38;5;124;43mtest_local_logging\u001B[39;49m\u001B[38;5;124;43m\"\u001B[39;49m\u001B[43m)\u001B[49m\n",
      "File \u001B[1;32m~\\IES_codebase\\pythonProjects\\binaryNeuralNetwork\\src\\models\\baseline_cnn.py:173\u001B[0m, in \u001B[0;36mtrain_model\u001B[1;34m(use_wandb, experiment_id)\u001B[0m\n\u001B[0;32m    171\u001B[0m     \u001B[38;5;28;01mif\u001B[39;00m val_accuracy \u001B[38;5;241m>\u001B[39m best_accuracy:\n\u001B[0;32m    172\u001B[0m         best_accuracy \u001B[38;5;241m=\u001B[39m val_accuracy\n\u001B[1;32m--> 173\u001B[0m         \u001B[43msave_best_model\u001B[49m\u001B[43m(\u001B[49m\u001B[43mmodel\u001B[49m\u001B[43m,\u001B[49m\u001B[43m \u001B[49m\u001B[43mbest_accuracy\u001B[49m\u001B[43m,\u001B[49m\u001B[43m \u001B[49m\u001B[43mexperiment_id\u001B[49m\u001B[43m)\u001B[49m\n\u001B[0;32m    175\u001B[0m \u001B[38;5;28mprint\u001B[39m(\u001B[38;5;124m\"\u001B[39m\u001B[38;5;124mTraining finished.\u001B[39m\u001B[38;5;124m\"\u001B[39m)\n\u001B[0;32m    177\u001B[0m \u001B[38;5;66;03m# Test evaluation\u001B[39;00m\n",
      "File \u001B[1;32m~\\IES_codebase\\pythonProjects\\binaryNeuralNetwork\\src\\utils\\model_utils.py:6\u001B[0m, in \u001B[0;36msave_best_model\u001B[1;34m(model, model_name, experiment_id)\u001B[0m\n\u001B[0;32m      4\u001B[0m \u001B[38;5;28;01mdef\u001B[39;00m \u001B[38;5;21msave_best_model\u001B[39m(model, model_name, experiment_id\u001B[38;5;241m=\u001B[39m\u001B[38;5;28;01mNone\u001B[39;00m):\n\u001B[0;32m      5\u001B[0m \u001B[38;5;250m    \u001B[39m\u001B[38;5;124;03m\"\"\"Save model if it's the best so far.\"\"\"\u001B[39;00m\n\u001B[1;32m----> 6\u001B[0m     model_dir \u001B[38;5;241m=\u001B[39m \u001B[43mget_models_dir\u001B[49m\u001B[43m(\u001B[49m\u001B[43m)\u001B[49m\u001B[43m \u001B[49m\u001B[38;5;241;43m/\u001B[39;49m\u001B[43m \u001B[49m\u001B[43mmodel_name\u001B[49m\n\u001B[0;32m      7\u001B[0m     model_dir\u001B[38;5;241m.\u001B[39mmkdir(parents\u001B[38;5;241m=\u001B[39m\u001B[38;5;28;01mTrue\u001B[39;00m, exist_ok\u001B[38;5;241m=\u001B[39m\u001B[38;5;28;01mTrue\u001B[39;00m)\n\u001B[0;32m      8\u001B[0m     model_path \u001B[38;5;241m=\u001B[39m model_dir \u001B[38;5;241m/\u001B[39m \u001B[38;5;124mf\u001B[39m\u001B[38;5;124m\"\u001B[39m\u001B[38;5;124mbest_simple_cnn_\u001B[39m\u001B[38;5;132;01m{\u001B[39;00mexperiment_id\u001B[38;5;132;01m}\u001B[39;00m\u001B[38;5;124m.pt\u001B[39m\u001B[38;5;124m\"\u001B[39m \u001B[38;5;28;01mif\u001B[39;00m experiment_id \u001B[38;5;28;01melse\u001B[39;00m model_dir \u001B[38;5;241m/\u001B[39m model_name \u001B[38;5;241m+\u001B[39m \u001B[38;5;124m\"\u001B[39m\u001B[38;5;124m.pt\u001B[39m\u001B[38;5;124m\"\u001B[39m\n",
      "\u001B[1;31mTypeError\u001B[0m: unsupported operand type(s) for /: 'WindowsPath' and 'float'"
     ]
    }
   ],
   "execution_count": 2
  },
  {
   "metadata": {
    "ExecuteTime": {
     "end_time": "2025-04-02T09:16:32.230822500Z",
     "start_time": "2025-04-02T09:10:37.787288Z"
    }
   },
   "cell_type": "code",
   "source": "",
   "id": "7f789d60b8d7cea0",
   "outputs": [],
   "execution_count": null
  }
 ],
 "metadata": {
  "kernelspec": {
   "display_name": "Python 3",
   "language": "python",
   "name": "python3"
  },
  "language_info": {
   "codemirror_mode": {
    "name": "ipython",
    "version": 2
   },
   "file_extension": ".py",
   "mimetype": "text/x-python",
   "name": "python",
   "nbconvert_exporter": "python",
   "pygments_lexer": "ipython2",
   "version": "2.7.6"
  }
 },
 "nbformat": 4,
 "nbformat_minor": 5
}
