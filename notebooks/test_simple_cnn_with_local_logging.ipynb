{
 "cells": [
  {
   "cell_type": "code",
   "id": "initial_id",
   "metadata": {
    "collapsed": true,
    "ExecuteTime": {
     "end_time": "2025-04-03T07:46:16.440811Z",
     "start_time": "2025-04-03T07:46:10.546267Z"
    }
   },
   "source": "from src.models.baseline_cnn import train_model",
   "outputs": [],
   "execution_count": 1
  },
  {
   "metadata": {
    "ExecuteTime": {
     "end_time": "2025-04-03T07:49:45.417860Z",
     "start_time": "2025-04-03T07:46:16.454935Z"
    }
   },
   "cell_type": "code",
   "source": "train_model(logging=True, use_wandb=False, experiment_id=\"test_local_logging\")",
   "id": "c368afe84a6c073a",
   "outputs": [
    {
     "name": "stdout",
     "output_type": "stream",
     "text": [
      "Epoch [1/3], Step [500/1500], Loss: 0.3317\n",
      "Epoch [1/3], Step [1000/1500], Loss: 0.0950\n",
      "Epoch [1/3], Step [1500/1500], Loss: 0.0702\n",
      "Epoch [1/3], Train Loss: 0.1656, Val Loss: 0.0590, Val Accuracy: 98.10%\n",
      "Epoch [2/3], Step [500/1500], Loss: 0.0494\n",
      "Epoch [2/3], Step [1000/1500], Loss: 0.0491\n",
      "Epoch [2/3], Step [1500/1500], Loss: 0.0461\n",
      "Epoch [2/3], Train Loss: 0.0482, Val Loss: 0.0499, Val Accuracy: 98.48%\n",
      "Epoch [3/3], Step [500/1500], Loss: 0.0334\n",
      "Epoch [3/3], Step [1000/1500], Loss: 0.0332\n",
      "Epoch [3/3], Step [1500/1500], Loss: 0.0357\n",
      "Epoch [3/3], Train Loss: 0.0341, Val Loss: 0.0406, Val Accuracy: 98.78%\n",
      "Training finished.\n",
      "Test Results - Loss: 0.0355, Accuracy: 98.86%\n"
     ]
    },
    {
     "data": {
      "text/plain": [
       "SimpleCNN(\n",
       "  (conv1): Conv2d(1, 32, kernel_size=(3, 3), stride=(1, 1), padding=(1, 1))\n",
       "  (conv2): Conv2d(32, 64, kernel_size=(3, 3), stride=(1, 1), padding=(1, 1))\n",
       "  (fc1): Linear(in_features=3136, out_features=128, bias=True)\n",
       "  (fc2): Linear(in_features=128, out_features=10, bias=True)\n",
       "  (pool): MaxPool2d(kernel_size=2, stride=2, padding=0, dilation=1, ceil_mode=False)\n",
       ")"
      ]
     },
     "execution_count": 2,
     "metadata": {},
     "output_type": "execute_result"
    }
   ],
   "execution_count": 2
  },
  {
   "metadata": {
    "ExecuteTime": {
     "end_time": "2025-04-03T07:49:45.759758Z",
     "start_time": "2025-04-03T07:49:45.743900Z"
    }
   },
   "cell_type": "code",
   "source": "",
   "id": "7f789d60b8d7cea0",
   "outputs": [],
   "execution_count": null
  }
 ],
 "metadata": {
  "kernelspec": {
   "display_name": "Python 3",
   "language": "python",
   "name": "python3"
  },
  "language_info": {
   "codemirror_mode": {
    "name": "ipython",
    "version": 2
   },
   "file_extension": ".py",
   "mimetype": "text/x-python",
   "name": "python",
   "nbconvert_exporter": "python",
   "pygments_lexer": "ipython2",
   "version": "2.7.6"
  }
 },
 "nbformat": 4,
 "nbformat_minor": 5
}
