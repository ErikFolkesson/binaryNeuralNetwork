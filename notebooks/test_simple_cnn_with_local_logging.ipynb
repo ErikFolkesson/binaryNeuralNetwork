{
 "cells": [
  {
   "cell_type": "code",
   "id": "initial_id",
   "metadata": {
    "collapsed": true,
    "ExecuteTime": {
     "end_time": "2025-04-02T09:07:54.587581Z",
     "start_time": "2025-04-02T09:07:49.206636Z"
    }
   },
   "source": "from src.models.baseline_cnn import train_model",
   "outputs": [],
   "execution_count": 1
  },
  {
   "metadata": {
    "ExecuteTime": {
     "end_time": "2025-04-02T09:10:37.423912Z",
     "start_time": "2025-04-02T09:07:54.594888Z"
    }
   },
   "cell_type": "code",
   "source": "train_model(use_wandb=True, experiment_id=\"test_local_logging\")",
   "id": "c368afe84a6c073a",
   "outputs": [
    {
     "name": "stderr",
     "output_type": "stream",
     "text": [
      "wandb: Using wandb-core as the SDK backend.  Please refer to https://wandb.me/wandb-core for more information.\n",
      "wandb: Currently logged in as: erik-folkesson1 (erik-folkesson1-efml) to https://api.wandb.ai. Use `wandb login --relogin` to force relogin\n"
     ]
    },
    {
     "data": {
      "text/plain": [
       "<IPython.core.display.HTML object>"
      ],
      "text/html": [
       "Tracking run with wandb version 0.19.8"
      ]
     },
     "metadata": {},
     "output_type": "display_data"
    },
    {
     "data": {
      "text/plain": [
       "<IPython.core.display.HTML object>"
      ],
      "text/html": [
       "Run data is saved locally in <code>C:\\Users\\erik\\IES_codebase\\pythonProjects\\binaryNeuralNetwork\\logs\\simple_cnn\\wandb\\run-20250402_110756-z8d2ea6z</code>"
      ]
     },
     "metadata": {},
     "output_type": "display_data"
    },
    {
     "data": {
      "text/plain": [
       "<IPython.core.display.HTML object>"
      ],
      "text/html": [
       "Syncing run <strong><a href='https://wandb.ai/erik-folkesson1-efml/simple_cnn_project/runs/z8d2ea6z' target=\"_blank\">experiment_test_local_logging</a></strong> to <a href='https://wandb.ai/erik-folkesson1-efml/simple_cnn_project' target=\"_blank\">Weights & Biases</a> (<a href='https://wandb.me/developer-guide' target=\"_blank\">docs</a>)<br>"
      ]
     },
     "metadata": {},
     "output_type": "display_data"
    },
    {
     "data": {
      "text/plain": [
       "<IPython.core.display.HTML object>"
      ],
      "text/html": [
       " View project at <a href='https://wandb.ai/erik-folkesson1-efml/simple_cnn_project' target=\"_blank\">https://wandb.ai/erik-folkesson1-efml/simple_cnn_project</a>"
      ]
     },
     "metadata": {},
     "output_type": "display_data"
    },
    {
     "data": {
      "text/plain": [
       "<IPython.core.display.HTML object>"
      ],
      "text/html": [
       " View run at <a href='https://wandb.ai/erik-folkesson1-efml/simple_cnn_project/runs/z8d2ea6z' target=\"_blank\">https://wandb.ai/erik-folkesson1-efml/simple_cnn_project/runs/z8d2ea6z</a>"
      ]
     },
     "metadata": {},
     "output_type": "display_data"
    },
    {
     "name": "stdout",
     "output_type": "stream",
     "text": [
      "Epoch [1/3], Step [100/1500], Loss: 0.8968\n",
      "Epoch [1/3], Step [200/1500], Loss: 0.2370\n",
      "Epoch [1/3], Step [300/1500], Loss: 0.1779\n",
      "Epoch [1/3], Step [400/1500], Loss: 0.1418\n",
      "Epoch [1/3], Step [500/1500], Loss: 0.1409\n",
      "Epoch [1/3], Step [600/1500], Loss: 0.0948\n",
      "Epoch [1/3], Step [700/1500], Loss: 0.1127\n",
      "Epoch [1/3], Step [800/1500], Loss: 0.0722\n",
      "Epoch [1/3], Step [900/1500], Loss: 0.0972\n",
      "Epoch [1/3], Step [1000/1500], Loss: 0.0879\n",
      "Epoch [1/3], Step [1100/1500], Loss: 0.0618\n",
      "Epoch [1/3], Step [1200/1500], Loss: 0.0873\n",
      "Epoch [1/3], Step [1300/1500], Loss: 0.0765\n",
      "Epoch [1/3], Step [1400/1500], Loss: 0.0612\n",
      "Epoch [1/3], Step [1500/1500], Loss: 0.0621\n",
      "Epoch [1/3], Train Loss: 0.0000, Val Loss: 0.0790, Val Accuracy: 97.47%\n",
      "Best model saved with accuracy: 97.47%\n",
      "Epoch [2/3], Step [100/1500], Loss: 0.0484\n",
      "Epoch [2/3], Step [200/1500], Loss: 0.0668\n",
      "Epoch [2/3], Step [300/1500], Loss: 0.0496\n",
      "Epoch [2/3], Step [400/1500], Loss: 0.0516\n",
      "Epoch [2/3], Step [500/1500], Loss: 0.0373\n",
      "Epoch [2/3], Step [600/1500], Loss: 0.0589\n",
      "Epoch [2/3], Step [700/1500], Loss: 0.0410\n",
      "Epoch [2/3], Step [800/1500], Loss: 0.0443\n",
      "Epoch [2/3], Step [900/1500], Loss: 0.0412\n",
      "Epoch [2/3], Step [1000/1500], Loss: 0.0386\n",
      "Epoch [2/3], Step [1100/1500], Loss: 0.0495\n",
      "Epoch [2/3], Step [1200/1500], Loss: 0.0436\n",
      "Epoch [2/3], Step [1300/1500], Loss: 0.0374\n",
      "Epoch [2/3], Step [1400/1500], Loss: 0.0690\n",
      "Epoch [2/3], Step [1500/1500], Loss: 0.0540\n",
      "Epoch [2/3], Train Loss: 0.0000, Val Loss: 0.0524, Val Accuracy: 98.47%\n",
      "Best model saved with accuracy: 98.47%\n",
      "Epoch [3/3], Step [100/1500], Loss: 0.0302\n",
      "Epoch [3/3], Step [200/1500], Loss: 0.0317\n",
      "Epoch [3/3], Step [300/1500], Loss: 0.0362\n",
      "Epoch [3/3], Step [400/1500], Loss: 0.0304\n",
      "Epoch [3/3], Step [500/1500], Loss: 0.0426\n",
      "Epoch [3/3], Step [600/1500], Loss: 0.0354\n",
      "Epoch [3/3], Step [700/1500], Loss: 0.0250\n",
      "Epoch [3/3], Step [800/1500], Loss: 0.0296\n",
      "Epoch [3/3], Step [900/1500], Loss: 0.0399\n",
      "Epoch [3/3], Step [1000/1500], Loss: 0.0367\n",
      "Epoch [3/3], Step [1100/1500], Loss: 0.0333\n",
      "Epoch [3/3], Step [1200/1500], Loss: 0.0363\n",
      "Epoch [3/3], Step [1300/1500], Loss: 0.0270\n",
      "Epoch [3/3], Step [1400/1500], Loss: 0.0329\n",
      "Epoch [3/3], Step [1500/1500], Loss: 0.0267\n",
      "Epoch [3/3], Train Loss: 0.0000, Val Loss: 0.0475, Val Accuracy: 98.68%\n",
      "Best model saved with accuracy: 98.68%\n",
      "Training finished.\n",
      "Test Results - Loss: 0.0373, Accuracy: 98.84%\n"
     ]
    },
    {
     "data": {
      "text/plain": [
       "SimpleCNN(\n",
       "  (conv1): Conv2d(1, 32, kernel_size=(3, 3), stride=(1, 1), padding=(1, 1))\n",
       "  (conv2): Conv2d(32, 64, kernel_size=(3, 3), stride=(1, 1), padding=(1, 1))\n",
       "  (fc1): Linear(in_features=3136, out_features=128, bias=True)\n",
       "  (fc2): Linear(in_features=128, out_features=10, bias=True)\n",
       "  (pool): MaxPool2d(kernel_size=2, stride=2, padding=0, dilation=1, ceil_mode=False)\n",
       ")"
      ]
     },
     "execution_count": 2,
     "metadata": {},
     "output_type": "execute_result"
    }
   ],
   "execution_count": 2
  },
  {
   "metadata": {
    "ExecuteTime": {
     "end_time": "2025-04-02T09:10:37.801065Z",
     "start_time": "2025-04-02T09:10:37.787288Z"
    }
   },
   "cell_type": "code",
   "source": "",
   "id": "7f789d60b8d7cea0",
   "outputs": [],
   "execution_count": null
  }
 ],
 "metadata": {
  "kernelspec": {
   "display_name": "Python 3",
   "language": "python",
   "name": "python3"
  },
  "language_info": {
   "codemirror_mode": {
    "name": "ipython",
    "version": 2
   },
   "file_extension": ".py",
   "mimetype": "text/x-python",
   "name": "python",
   "nbconvert_exporter": "python",
   "pygments_lexer": "ipython2",
   "version": "2.7.6"
  }
 },
 "nbformat": 4,
 "nbformat_minor": 5
}
