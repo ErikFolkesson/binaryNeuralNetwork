{
 "cells": [
  {
   "cell_type": "code",
   "id": "initial_id",
   "metadata": {
    "collapsed": true,
    "ExecuteTime": {
     "end_time": "2025-04-02T09:17:30.497837Z",
     "start_time": "2025-04-02T09:17:24.369105Z"
    }
   },
   "source": "from src.models.baseline_cnn import train_model",
   "outputs": [],
   "execution_count": 1
  },
  {
   "metadata": {
    "ExecuteTime": {
     "end_time": "2025-04-02T09:20:19.657658Z",
     "start_time": "2025-04-02T09:17:30.499623Z"
    }
   },
   "cell_type": "code",
   "source": "train_model(use_wandb=False, experiment_id=\"test_local_logging\")",
   "id": "c368afe84a6c073a",
   "outputs": [
    {
     "name": "stdout",
     "output_type": "stream",
     "text": [
      "Epoch [1/3], Step [100/1500], Loss: 0.8700\n",
      "Epoch [1/3], Step [200/1500], Loss: 0.2416\n",
      "Epoch [1/3], Step [300/1500], Loss: 0.1732\n",
      "Epoch [1/3], Step [400/1500], Loss: 0.1254\n",
      "Epoch [1/3], Step [500/1500], Loss: 0.1352\n",
      "Epoch [1/3], Step [600/1500], Loss: 0.0986\n",
      "Epoch [1/3], Step [700/1500], Loss: 0.0884\n",
      "Epoch [1/3], Step [800/1500], Loss: 0.0859\n",
      "Epoch [1/3], Step [900/1500], Loss: 0.0959\n",
      "Epoch [1/3], Step [1000/1500], Loss: 0.0836\n",
      "Epoch [1/3], Step [1100/1500], Loss: 0.0742\n",
      "Epoch [1/3], Step [1200/1500], Loss: 0.0757\n",
      "Epoch [1/3], Step [1300/1500], Loss: 0.0728\n",
      "Epoch [1/3], Step [1400/1500], Loss: 0.0610\n",
      "Epoch [1/3], Step [1500/1500], Loss: 0.0637\n",
      "Epoch [1/3], Train Loss: 0.0000, Val Loss: 0.0730, Val Accuracy: 97.82%\n",
      "Epoch [2/3], Step [100/1500], Loss: 0.0540\n",
      "Epoch [2/3], Step [200/1500], Loss: 0.0525\n",
      "Epoch [2/3], Step [300/1500], Loss: 0.0577\n",
      "Epoch [2/3], Step [400/1500], Loss: 0.0464\n",
      "Epoch [2/3], Step [500/1500], Loss: 0.0511\n",
      "Epoch [2/3], Step [600/1500], Loss: 0.0401\n",
      "Epoch [2/3], Step [700/1500], Loss: 0.0529\n",
      "Epoch [2/3], Step [800/1500], Loss: 0.0488\n",
      "Epoch [2/3], Step [900/1500], Loss: 0.0406\n",
      "Epoch [2/3], Step [1000/1500], Loss: 0.0609\n",
      "Epoch [2/3], Step [1100/1500], Loss: 0.0390\n",
      "Epoch [2/3], Step [1200/1500], Loss: 0.0395\n",
      "Epoch [2/3], Step [1300/1500], Loss: 0.0496\n",
      "Epoch [2/3], Step [1400/1500], Loss: 0.0481\n",
      "Epoch [2/3], Step [1500/1500], Loss: 0.0465\n",
      "Epoch [2/3], Train Loss: 0.0000, Val Loss: 0.0606, Val Accuracy: 98.09%\n",
      "Epoch [3/3], Step [100/1500], Loss: 0.0288\n",
      "Epoch [3/3], Step [200/1500], Loss: 0.0355\n",
      "Epoch [3/3], Step [300/1500], Loss: 0.0319\n",
      "Epoch [3/3], Step [400/1500], Loss: 0.0331\n",
      "Epoch [3/3], Step [500/1500], Loss: 0.0375\n",
      "Epoch [3/3], Step [600/1500], Loss: 0.0338\n",
      "Epoch [3/3], Step [700/1500], Loss: 0.0295\n",
      "Epoch [3/3], Step [800/1500], Loss: 0.0440\n",
      "Epoch [3/3], Step [900/1500], Loss: 0.0418\n",
      "Epoch [3/3], Step [1000/1500], Loss: 0.0359\n",
      "Epoch [3/3], Step [1100/1500], Loss: 0.0354\n",
      "Epoch [3/3], Step [1200/1500], Loss: 0.0237\n",
      "Epoch [3/3], Step [1300/1500], Loss: 0.0314\n",
      "Epoch [3/3], Step [1400/1500], Loss: 0.0318\n",
      "Epoch [3/3], Step [1500/1500], Loss: 0.0430\n",
      "Epoch [3/3], Train Loss: 0.0000, Val Loss: 0.0521, Val Accuracy: 98.41%\n",
      "Training finished.\n",
      "Test Results - Loss: 0.0466, Accuracy: 98.54%\n"
     ]
    },
    {
     "data": {
      "text/plain": [
       "SimpleCNN(\n",
       "  (conv1): Conv2d(1, 32, kernel_size=(3, 3), stride=(1, 1), padding=(1, 1))\n",
       "  (conv2): Conv2d(32, 64, kernel_size=(3, 3), stride=(1, 1), padding=(1, 1))\n",
       "  (fc1): Linear(in_features=3136, out_features=128, bias=True)\n",
       "  (fc2): Linear(in_features=128, out_features=10, bias=True)\n",
       "  (pool): MaxPool2d(kernel_size=2, stride=2, padding=0, dilation=1, ceil_mode=False)\n",
       ")"
      ]
     },
     "execution_count": 2,
     "metadata": {},
     "output_type": "execute_result"
    }
   ],
   "execution_count": 2
  },
  {
   "metadata": {
    "ExecuteTime": {
     "end_time": "2025-04-02T09:20:19.957897Z",
     "start_time": "2025-04-02T09:20:19.942587Z"
    }
   },
   "cell_type": "code",
   "source": "",
   "id": "7f789d60b8d7cea0",
   "outputs": [],
   "execution_count": null
  }
 ],
 "metadata": {
  "kernelspec": {
   "display_name": "Python 3",
   "language": "python",
   "name": "python3"
  },
  "language_info": {
   "codemirror_mode": {
    "name": "ipython",
    "version": 2
   },
   "file_extension": ".py",
   "mimetype": "text/x-python",
   "name": "python",
   "nbconvert_exporter": "python",
   "pygments_lexer": "ipython2",
   "version": "2.7.6"
  }
 },
 "nbformat": 4,
 "nbformat_minor": 5
}
