{
 "cells": [
  {
   "cell_type": "code",
   "id": "initial_id",
   "metadata": {
    "collapsed": true,
    "ExecuteTime": {
     "end_time": "2025-04-03T07:49:54.524602Z",
     "start_time": "2025-04-03T07:49:54.492349Z"
    }
   },
   "source": "from src.utils.logging_util import load_metrics",
   "outputs": [],
   "execution_count": 1
  },
  {
   "metadata": {
    "ExecuteTime": {
     "end_time": "2025-04-03T07:49:54.540649Z",
     "start_time": "2025-04-03T07:49:54.524602Z"
    }
   },
   "cell_type": "code",
   "source": "data = load_metrics(\"simple_cnn\")",
   "id": "1838549995a91c77",
   "outputs": [],
   "execution_count": 2
  },
  {
   "metadata": {
    "ExecuteTime": {
     "end_time": "2025-04-03T07:49:54.812171Z",
     "start_time": "2025-04-03T07:49:54.796504Z"
    }
   },
   "cell_type": "code",
   "source": "data",
   "id": "ee99c24d8aa8cbf5",
   "outputs": [
    {
     "data": {
      "text/plain": [
       "{'step': '[1500, 3000, 4500]',\n",
       " 'train_loss': '[0.1655949165673616, 0.04820476011613695, 0.03406854000332048]',\n",
       " 'val_accuracy': '[98.1, 98.48333333333333, 98.775]',\n",
       " 'val_loss': '[0.058950470111953715, 0.04989159346899639, 0.04055447044603837]'}"
      ]
     },
     "execution_count": 3,
     "metadata": {},
     "output_type": "execute_result"
    }
   ],
   "execution_count": 3
  },
  {
   "metadata": {
    "ExecuteTime": {
     "end_time": "2025-04-03T07:49:54.922947Z",
     "start_time": "2025-04-03T07:49:54.912305Z"
    }
   },
   "cell_type": "code",
   "source": "",
   "id": "133fc41011d4eaae",
   "outputs": [],
   "execution_count": null
  }
 ],
 "metadata": {
  "kernelspec": {
   "display_name": "Python 3",
   "language": "python",
   "name": "python3"
  },
  "language_info": {
   "codemirror_mode": {
    "name": "ipython",
    "version": 2
   },
   "file_extension": ".py",
   "mimetype": "text/x-python",
   "name": "python",
   "nbconvert_exporter": "python",
   "pygments_lexer": "ipython2",
   "version": "2.7.6"
  }
 },
 "nbformat": 4,
 "nbformat_minor": 5
}
